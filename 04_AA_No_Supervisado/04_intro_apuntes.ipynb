{
 "cells": [
  {
   "cell_type": "markdown",
   "metadata": {},
   "source": [
    "## Intro\n",
    "Aunque la gran mayoría de las aplicaciones de machine learning se basan en el aprendizaje supervisado, la inmensa mayoría de los datos disponibles no están etiquetados:\n",
    "- Tenemos las características de entrada $X$\n",
    "- No tenemos las etiquetas $Y$\n",
    "\n",
    "En los casos en los que no dispongamos del etiquetado, podemos utilizar algoritmos no supervisados para agrupar los objetos en función de una serie de características.\n",
    "\n",
    "- Agrupamiento: el objetivo es juntar instancias similares en grupos. El agrupamiento es una herramienta estpenda para el análisis de datos, la segmentación de mercado, los sistemas de recomendación, los motores de búsqueda, la segmentación de imágenes, el aprendizaje semisupervisado, la reducción de dimensionalidad, etc\n",
    "\n",
    "- Detección de anomalías: el objetivo es aprender qué aspecto tienen los datos \"normales\" y, después, utilizar eso para detectar instancias anormales, como artículos defectuosos en una cadena de producción o una nueva tendencia en una serie temporal.\n",
    "\n",
    "- Estimación de densidad: es la tarea de estimar la funcisón de densiddadde probabilidad del proceso (PDF) aleatorio que ha generado el conjunto de datos. La estimación de densidad se utiliza con frecuencia para la detección de anomalías: es probable que las instancias ubicadas en regiones de densidad muy baja sean anomalías. También resulta útil para la visualización y el análisis de datos.\n",
    "\n",
    "## Agrupamiento\n",
    "\n",
    "- El agrupamiento es la tarea de identificar instancias similares y asignarlas a grupos de instancias similares.\n",
    "\n",
    "- Se utiliza en una amplia variedad de aplicaciones:\n",
    "    - Para segmentación de mercado: podemos agrupar a los clientes en función de sus compras y su actividad en tu sitio web. Esto resulta útil para entender quiénes son tus clientes y qué necesitan, para que puedas adaptar los productos y las campañas de marketing a cada segmento. Por ejemplo, la segmentación de mercado puede ser útil para que los sistemas de recomendación sugieran contenido que otros usuarios dentro del mismo grupo han disfrutado.\n",
    "    - Para análisis de datos: cuando analizas un nuevo conjunto de datos, puede ser útil ejecutar un algoritmo de agrupamiento y, después, analizar cada grupo por separado.\n",
    "    - Cómo técnica de reducción de dimensionalidad: una vez que un conjunto de datos se ha agrupado, suele ser posible medir la afinidad de cada instancia con cada grupo ( afinidad es cualquier medida de lo bien que encaja una instancia en el grupo). El vector de su grupo. Si hay k grupos, entonces este vector tiene k dimensiones. Por lo general, este vector tiene una dimensión mucho más baja que el vector de características origional, pero puede preservar información suficiente para más procesamiento.\n",
    "    - Para detección de anomalías (también llamada detección de valores atípicos): cualquier instancia que tenga poca afinidad con todos los grupos es, probablemente, una anomalía. Por ejemplo, si has agrupado a los usuarios de tu sitio web en función de su comportamiento, puedes detectar usuarios con comportamientos inusuales, por ejemplo, un número inusual de solicitudes por segundo. La detección de anomalías resulta útil, en particular, para detectar defectos de fabricación o fraudes.\n",
    "   - Para aprendizaje semisupervisado: si solo tienes unas pocas etiquetas, podrías realizar un agrupamiento y propagar las etiquetas a todas las instancias en el mismo grupo. Esta técnica puede aumentar mucho el número de etiquetas disponibles para un algoritmo de aprendizaje supervisado subsiguiente y , así mejorar su rendimiento.\n",
    "    - Para motores de búsqueda: algunos motores de búsqueda te permiten buscar imágenes que sean similares a una imagen de referencia. Para crear un sistema así, primero tienes que aplicar un algoritmo de agrupamiento a todas las imagenes de la base de datos; las imágenes similares acabarán en el mismo grupo. Después, cuando un usuario proporcione una imagen de referencia, lo único que tienes que hacer es utilizar el modelo de agrupamiento entrenado para encontrar el grupo de esta imagen y puedes devolver simplemente todas las imágenes de ese grupo.\n",
    "    - Para segmentar una imagen: al agrupar píxeles en función de su color y, después, sustituir el color de cada píxel por el color medio de su grupo, es posible reducir de manera considerable el número de colores diferentes en la imagen. La segmentación de imágenes se utiliza en muchos sistemas de rastreo y de detección de obbjetos, ya que hace que sea más fácil de detectar el contorno de cada objeto.\n",
    "    \n",
    "    \n",
    "- No existe una definición universal de lo que es un grupo: en realidad, depende del contexto, y algoritmos diferentes capturarán diferentes tipos de grupos:\n",
    "    - Algunos algoritmos buscan instancias centradas alrededor de un punto concreto, denominado centroide\n",
    "    - Otros buscan regiones continuas de instancias abarrotadas: estos grupos pueden tomar cualquier forma. \n",
    "    - Otros busqcan regiones continuas de instancias abarrotadas: estos grupos pueden tomar cualquier forma.\n",
    "    - Algunos algoritmos son jerárquicos y buscan grupos de grupos\n",
    "    \n"
   ]
  },
  {
   "cell_type": "markdown",
   "metadata": {},
   "source": [
    "## Otros algoritmos de agrupamiento distintos a Kmeans y Dbscan"
   ]
  },
  {
   "cell_type": "markdown",
   "metadata": {},
   "source": [
    "- Agrupamiento por aglomeración\n",
    "- BIRCH\n",
    "- Mean-Shift\n",
    "- Propagación de afinidad\n",
    "- Agrupamiento espectral"
   ]
  },
  {
   "cell_type": "code",
   "execution_count": null,
   "metadata": {},
   "outputs": [],
   "source": []
  }
 ],
 "metadata": {
  "kernelspec": {
   "display_name": "Python 3",
   "language": "python",
   "name": "python3"
  },
  "language_info": {
   "codemirror_mode": {
    "name": "ipython",
    "version": 3
   },
   "file_extension": ".py",
   "mimetype": "text/x-python",
   "name": "python",
   "nbconvert_exporter": "python",
   "pygments_lexer": "ipython3",
   "version": "3.8.3"
  }
 },
 "nbformat": 4,
 "nbformat_minor": 4
}
