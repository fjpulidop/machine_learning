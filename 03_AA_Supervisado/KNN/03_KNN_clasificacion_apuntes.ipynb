{
 "cells": [
  {
   "cell_type": "code",
   "execution_count": 1,
   "metadata": {},
   "outputs": [],
   "source": [
    "from IPython.display import Image\n",
    "from IPython.core.display import HTML"
   ]
  },
  {
   "cell_type": "markdown",
   "metadata": {},
   "source": [
    "# Aprendizaje Supervisado: clasificando mediante el uso de KNN"
   ]
  },
  {
   "cell_type": "markdown",
   "metadata": {},
   "source": [
    "## ¿Qué es KNN?"
   ]
  },
  {
   "cell_type": "markdown",
   "metadata": {},
   "source": [
    "Compara la distancia de la instancia de consulta con las muestras de entramiento y seleccionado los K vecinos más cercanos (de ahí su nombre).\n",
    "Luego, toma la mayoría de estas clases de vecinos K para ser la predicción de la instancia de consulta."
   ]
  },
  {
   "cell_type": "markdown",
   "metadata": {},
   "source": [
    "La siguiente imagen resume esto muy bien. \n",
    "\n",
    "- Si k=3, los tres vecinos más cercanos del círculo son los dos cuadrados y el triángulo. Según la regla simple de la mayoría, el círculo se clasifica como cuadrado. \n",
    "\n",
    "- Si k=5m, entonces los cinco vecinos más cercanos son los dos cuadrados y los tres triángulos. Por tanto el círculo se clasifica como triángulo."
   ]
  },
  {
   "cell_type": "code",
   "execution_count": 2,
   "metadata": {},
   "outputs": [
    {
     "data": {
      "text/html": [
       "<img src=\"https://learning.oreilly.com/library/view/python-machine-learning/9781119545637/images/c09f001.jpg\"/>"
      ],
      "text/plain": [
       "<IPython.core.display.Image object>"
      ]
     },
     "execution_count": 2,
     "metadata": {},
     "output_type": "execute_result"
    }
   ],
   "source": [
    "Image(url=\"https://learning.oreilly.com/library/view/python-machine-learning/9781119545637/images/c09f001.jpg\")"
   ]
  },
  {
   "cell_type": "markdown",
   "metadata": {},
   "source": [
    "Por tanto, la clasificación de un punto depende de la mayoría de sus vecinos."
   ]
  },
  {
   "cell_type": "markdown",
   "metadata": {},
   "source": [
    "### Nota\n",
    "KNN también se usa a veces para regresión además de clasificación. Por ejemplo, se puede utilizar para calcular el promedio del objetivo numérico de los K vecinos más cercanos. Nos centraremos en el de clasificación. "
   ]
  },
  {
   "cell_type": "markdown",
   "metadata": {},
   "source": [
    "## Implementación en python"
   ]
  },
  {
   "cell_type": "code",
   "execution_count": 3,
   "metadata": {},
   "outputs": [],
   "source": [
    "import pandas as pd\n",
    "import numpy as np\n",
    "import operator\n",
    "import seaborn as sns\n",
    "import matplotlib.pyplot as plt "
   ]
  },
  {
   "cell_type": "markdown",
   "metadata": {},
   "source": [
    "Trazaremos los puntos utilizando seaborn:"
   ]
  },
  {
   "cell_type": "code",
   "execution_count": 32,
   "metadata": {},
   "outputs": [
    {
     "data": {
      "text/html": [
       "<div>\n",
       "<style scoped>\n",
       "    .dataframe tbody tr th:only-of-type {\n",
       "        vertical-align: middle;\n",
       "    }\n",
       "\n",
       "    .dataframe tbody tr th {\n",
       "        vertical-align: top;\n",
       "    }\n",
       "\n",
       "    .dataframe thead th {\n",
       "        text-align: right;\n",
       "    }\n",
       "</style>\n",
       "<table border=\"1\" class=\"dataframe\">\n",
       "  <thead>\n",
       "    <tr style=\"text-align: right;\">\n",
       "      <th></th>\n",
       "      <th>x</th>\n",
       "      <th>y</th>\n",
       "      <th>c</th>\n",
       "    </tr>\n",
       "  </thead>\n",
       "  <tbody>\n",
       "    <tr>\n",
       "      <th>0</th>\n",
       "      <td>1</td>\n",
       "      <td>1</td>\n",
       "      <td>A</td>\n",
       "    </tr>\n",
       "    <tr>\n",
       "      <th>1</th>\n",
       "      <td>2</td>\n",
       "      <td>2</td>\n",
       "      <td>A</td>\n",
       "    </tr>\n",
       "    <tr>\n",
       "      <th>2</th>\n",
       "      <td>4</td>\n",
       "      <td>3</td>\n",
       "      <td>B</td>\n",
       "    </tr>\n",
       "    <tr>\n",
       "      <th>3</th>\n",
       "      <td>3</td>\n",
       "      <td>3</td>\n",
       "      <td>A</td>\n",
       "    </tr>\n",
       "    <tr>\n",
       "      <th>4</th>\n",
       "      <td>3</td>\n",
       "      <td>5</td>\n",
       "      <td>B</td>\n",
       "    </tr>\n",
       "    <tr>\n",
       "      <th>5</th>\n",
       "      <td>5</td>\n",
       "      <td>6</td>\n",
       "      <td>B</td>\n",
       "    </tr>\n",
       "    <tr>\n",
       "      <th>6</th>\n",
       "      <td>5</td>\n",
       "      <td>4</td>\n",
       "      <td>B</td>\n",
       "    </tr>\n",
       "  </tbody>\n",
       "</table>\n",
       "</div>"
      ],
      "text/plain": [
       "   x  y  c\n",
       "0  1  1  A\n",
       "1  2  2  A\n",
       "2  4  3  B\n",
       "3  3  3  A\n",
       "4  3  5  B\n",
       "5  5  6  B\n",
       "6  5  4  B"
      ]
     },
     "execution_count": 32,
     "metadata": {},
     "output_type": "execute_result"
    }
   ],
   "source": [
    "data"
   ]
  },
  {
   "cell_type": "code",
   "execution_count": 5,
   "metadata": {},
   "outputs": [
    {
     "data": {
      "image/png": "[encoded data removed]",
      "text/plain": [
       "<Figure size 402.875x360 with 1 Axes>"
      ]
     },
     "metadata": {
      "needs_background": "light"
     },
     "output_type": "display_data"
    }
   ],
   "source": [
    "data = pd.read_csv(\"knn.csv\")\n",
    "sns.lmplot('x', 'y', data=data,\n",
    "           hue='c', palette='Set1',\n",
    "           fit_reg=False, scatter_kws={\"s\": 70})\n",
    "plt.show() "
   ]
  },
  {
   "cell_type": "markdown",
   "metadata": {},
   "source": [
    "La siguiente imagen muestra la distribución de los distintos puntos:\n",
    "- Los puntos que pertenecen a la clase A se muestran en rojo.\n",
    "- Los que pertenecen a la clase en azul."
   ]
  },
  {
   "cell_type": "markdown",
   "metadata": {},
   "source": [
    "### Calculando la distancia entre puntos"
   ]
  },
  {
   "cell_type": "markdown",
   "metadata": {},
   "source": [
    "Para encontrar al vecino más cercano de un punto dado, se debe calcular la distancia euclidiana entre los dos puntos."
   ]
  },
  {
   "cell_type": "markdown",
   "metadata": {},
   "source": [
    "En geometría, el espacio euclidiano abarca el plano euclidiano bidimensional, el espacio tridimensional de la geometría y espacios similares de dimensión superior."
   ]
  },
  {
   "cell_type": "markdown",
   "metadata": {},
   "source": [
    "Dados dos puntos p=($p_1, p_2, ..., p_n$) y q=($q_1, q_2, ..., q_n$), la distancia entre p y q viene dada por la siguiente fórmula:"
   ]
  },
  {
   "cell_type": "markdown",
   "metadata": {},
   "source": [
    "\\begin{equation*}\n",
    "\\sqrt{((q_1 - p_1)^2 + (q_2 - p_2)^2 + ... + (q_n - p_n)^2)}\n",
    "\\end{equation*}"
   ]
  },
  {
   "cell_type": "markdown",
   "metadata": {},
   "source": [
    "Según esta fórmula, podemos definir una función denominada `euclidean_distance` de la siguiente manera:"
   ]
  },
  {
   "cell_type": "code",
   "execution_count": 9,
   "metadata": {},
   "outputs": [],
   "source": [
    "#---calcula la distancia entre dos puntos---\n",
    "def euclidean_distance(pt1, pt2, dimension):\n",
    "    distance = 0\n",
    "    for x in range(dimension):\n",
    "        distance += np.square(pt1[x] - pt2[x])\n",
    "    return np.sqrt(distance) "
   ]
  },
  {
   "cell_type": "markdown",
   "metadata": {},
   "source": [
    "La función `euclidean_distance` puede encontrar la distancia entre dos puntos en cualquier dimensión.\n",
    "Para este ejemplo, los puntos con los que estamos tratando están en 2D."
   ]
  },
  {
   "cell_type": "markdown",
   "metadata": {},
   "source": [
    "## Implementando KNN"
   ]
  },
  {
   "cell_type": "markdown",
   "metadata": {},
   "source": [
    "A continuación, se define una función denominada `knn()`, que incluye los puntos de entrenamiento, el punto de prueba y el valor de k:"
   ]
  },
  {
   "cell_type": "code",
   "execution_count": 150,
   "metadata": {},
   "outputs": [],
   "source": [
    "#---Nuestro propio modelo KNN---\n",
    "def knn(training_points, test_point, k):\n",
    "    distances = {}\n",
    " \n",
    "    #---Número de ejes con los que tratamos---\n",
    "    dimension = test_point.shape[1]\n",
    " \n",
    "    #-calcula la distancia euclídea entre cada\n",
    "    # punto en los datos de train y los datos test\n",
    "    for x in range(len(training_points)):\n",
    "        dist = euclidean_distance(test_point, training_points.iloc[x],\n",
    "                                  dimension)\n",
    "        #---guarda la distancia para cada uno de los puntos---\n",
    "        distances[x] = dist[0]\n",
    " \n",
    "    #---ordena las distancias---\n",
    "    sorted_d = sorted(distances.items(), key=operator.itemgetter(1))\n",
    "    \n",
    "    #---para almacenar los vecinos---\n",
    "    neighbors = []\n",
    " \n",
    "    #---extrae los top k vecinos---\n",
    "    for x in range(k):\n",
    "        neighbors.append(sorted_d[x][0])\n",
    " \n",
    "    #---para cada uno de los vecinos encontrados, encuentra su clase---\n",
    "    class_counter = {}\n",
    "    for x in range(len(neighbors)):\n",
    "        #---find out the class for that particular point---\n",
    "        cls = training_points.iloc[neighbors[x]][-1]\n",
    "        if cls in class_counter:\n",
    "            class_counter[cls] += 1\n",
    "        else:\n",
    "            class_counter[cls] = 1\n",
    " \n",
    "    #---ordena class_counter descendentemente---\n",
    "    sorted_counter = sorted(class_counter.items(),\n",
    "                            key=operator.itemgetter(1),\n",
    "                            reverse=True)\n",
    "\n",
    "    #---devuelve una clase con los de mayor conteo,\n",
    "    # tantos como vecinos encuentre---\n",
    "    return(sorted_counter[0][0], neighbors) "
   ]
  },
  {
   "cell_type": "markdown",
   "metadata": {},
   "source": [
    "La función devuelve la clase a la que pertenece un punto de prueba, así como los índices de todos los k vecinos más cercanos."
   ]
  },
  {
   "cell_type": "markdown",
   "metadata": {},
   "source": [
    "## Haciendo predicciones"
   ]
  },
  {
   "cell_type": "markdown",
   "metadata": {},
   "source": [
    "Con la función `knn()` definida, ahora podemos hacer algunas predicciones:"
   ]
  },
  {
   "cell_type": "code",
   "execution_count": 52,
   "metadata": {},
   "outputs": [
    {
     "data": {
      "text/html": [
       "<div>\n",
       "<style scoped>\n",
       "    .dataframe tbody tr th:only-of-type {\n",
       "        vertical-align: middle;\n",
       "    }\n",
       "\n",
       "    .dataframe tbody tr th {\n",
       "        vertical-align: top;\n",
       "    }\n",
       "\n",
       "    .dataframe thead th {\n",
       "        text-align: right;\n",
       "    }\n",
       "</style>\n",
       "<table border=\"1\" class=\"dataframe\">\n",
       "  <thead>\n",
       "    <tr style=\"text-align: right;\">\n",
       "      <th></th>\n",
       "      <th>x</th>\n",
       "      <th>y</th>\n",
       "      <th>c</th>\n",
       "    </tr>\n",
       "  </thead>\n",
       "  <tbody>\n",
       "    <tr>\n",
       "      <th>0</th>\n",
       "      <td>1</td>\n",
       "      <td>1</td>\n",
       "      <td>A</td>\n",
       "    </tr>\n",
       "    <tr>\n",
       "      <th>1</th>\n",
       "      <td>2</td>\n",
       "      <td>2</td>\n",
       "      <td>A</td>\n",
       "    </tr>\n",
       "    <tr>\n",
       "      <th>2</th>\n",
       "      <td>4</td>\n",
       "      <td>3</td>\n",
       "      <td>B</td>\n",
       "    </tr>\n",
       "    <tr>\n",
       "      <th>3</th>\n",
       "      <td>3</td>\n",
       "      <td>3</td>\n",
       "      <td>A</td>\n",
       "    </tr>\n",
       "    <tr>\n",
       "      <th>4</th>\n",
       "      <td>3</td>\n",
       "      <td>5</td>\n",
       "      <td>B</td>\n",
       "    </tr>\n",
       "    <tr>\n",
       "      <th>5</th>\n",
       "      <td>5</td>\n",
       "      <td>6</td>\n",
       "      <td>B</td>\n",
       "    </tr>\n",
       "    <tr>\n",
       "      <th>6</th>\n",
       "      <td>5</td>\n",
       "      <td>4</td>\n",
       "      <td>B</td>\n",
       "    </tr>\n",
       "  </tbody>\n",
       "</table>\n",
       "</div>"
      ],
      "text/plain": [
       "   x  y  c\n",
       "0  1  1  A\n",
       "1  2  2  A\n",
       "2  4  3  B\n",
       "3  3  3  A\n",
       "4  3  5  B\n",
       "5  5  6  B\n",
       "6  5  4  B"
      ]
     },
     "execution_count": 52,
     "metadata": {},
     "output_type": "execute_result"
    }
   ],
   "source": [
    "data"
   ]
  },
  {
   "cell_type": "code",
   "execution_count": 81,
   "metadata": {},
   "outputs": [],
   "source": [
    "test_set = [[1,5]]"
   ]
  },
  {
   "cell_type": "code",
   "execution_count": 82,
   "metadata": {},
   "outputs": [],
   "source": [
    "test = pd.DataFrame(test_set)"
   ]
  },
  {
   "cell_type": "code",
   "execution_count": 89,
   "metadata": {},
   "outputs": [],
   "source": [
    "cls,neighbors = knn(data, test, 3)"
   ]
  },
  {
   "cell_type": "code",
   "execution_count": 90,
   "metadata": {},
   "outputs": [
    {
     "name": "stdout",
     "output_type": "stream",
     "text": [
      "Predicted Class: A\n"
     ]
    }
   ],
   "source": [
    "print(\"Predicted Class: \" + cls)"
   ]
  },
  {
   "cell_type": "markdown",
   "metadata": {},
   "source": [
    "### Visualización de diferentes valores de K"
   ]
  },
  {
   "cell_type": "markdown",
   "metadata": {},
   "source": [
    "El siguiente fragmento dibuja una serie de círculos concéntricos alrededor del punto de prueba según los valores de k, que van de 7 a 1, con intervalos de -2:"
   ]
  },
  {
   "cell_type": "code",
   "execution_count": 91,
   "metadata": {},
   "outputs": [
    {
     "name": "stdout",
     "output_type": "stream",
     "text": [
      "============\n",
      "k =  7\n",
      "Class B\n",
      "Neighbors\n",
      "   x  y  c\n",
      "4  3  5  B\n",
      "3  3  3  A\n",
      "1  2  2  A\n",
      "2  4  3  B\n",
      "0  1  1  A\n",
      "5  5  6  B\n",
      "6  5  4  B\n",
      "============\n",
      "k =  5\n",
      "Class A\n",
      "Neighbors\n",
      "   x  y  c\n",
      "4  3  5  B\n",
      "3  3  3  A\n",
      "1  2  2  A\n",
      "2  4  3  B\n",
      "0  1  1  A\n",
      "============\n",
      "k =  3\n",
      "Class A\n",
      "Neighbors\n",
      "   x  y  c\n",
      "4  3  5  B\n",
      "3  3  3  A\n",
      "1  2  2  A\n",
      "============\n",
      "k =  1\n",
      "Class B\n",
      "Neighbors\n",
      "   x  y  c\n",
      "4  3  5  B\n"
     ]
    },
    {
     "data": {
      "image/png": "[encoded data removed]",
      "text/plain": [
       "<Figure size 432x288 with 1 Axes>"
      ]
     },
     "metadata": {
      "needs_background": "light"
     },
     "output_type": "display_data"
    }
   ],
   "source": [
    "#---generate the color map for the scatter plot---\n",
    "#---if column 'c' is A, then use Red, else use Blue---\n",
    "colors = ['r' if i == 'A' else 'b'  for i in data['c']]\n",
    "ax = data.plot(kind='scatter', x='x', y='y', c = colors)\n",
    "plt.xlim(0,7)\n",
    "plt.ylim(0,7)\n",
    " \n",
    "#---plot the test point---\n",
    "plt.plot(test_set[0][0],test_set[0][1], \"yo\", markersize='9')\n",
    " \n",
    "for k in range(7,0,-2):\n",
    "    cls,neighbors = knn(data, test, k)\n",
    "\n",
    "    print(\"============\")\n",
    "    print(\"k = \", k)\n",
    "    print(\"Class\", cls)\n",
    "    print(\"Neighbors\")\n",
    "    print(data.iloc[neighbors])\n",
    " \n",
    "    furthest_point = data.iloc[neighbors].tail(1)\n",
    " \n",
    "    #---draw a circle connecting the test point\n",
    "    # and the furthest point---\n",
    "    radius = euclidean_distance(test, furthest_point.iloc[0], 2)\n",
    " \n",
    "    #---display the circle in red if classification is A,\n",
    "    # else display circle in blue---\n",
    "    c = 'r' if cls=='A' else 'b'\n",
    "    circle = plt.Circle((test_set[0][0], test_set[0][1]),\n",
    "                        radius, color=c, alpha=0.3)\n",
    "    ax.add_patch(circle)\n",
    " \n",
    "plt.gca().set_aspect('equal', adjustable='box')\n",
    "plt.show() "
   ]
  },
  {
   "cell_type": "markdown",
   "metadata": {},
   "source": [
    "Se muestran una serie de círculos centrados alrededor del punto de prueba, con valores variables de k."
   ]
  },
  {
   "cell_type": "markdown",
   "metadata": {},
   "source": [
    "## Uso de la clase ```KNeighborsClassifier``` de Scikit-Learn para KNN"
   ]
  },
  {
   "cell_type": "markdown",
   "metadata": {},
   "source": [
    "Ahora vamos a la implementación que hace sklearn utilizando el conjunto de datos Iris:"
   ]
  },
  {
   "cell_type": "markdown",
   "metadata": {},
   "source": [
    "Este conjunto de datos contiene 50 muestras de cada una de tres especies de Iris: Iris setosa, Iris virginica e Iris versicolor, para cada una de estas especies se midieron cuatro rasgos de cada muestra: \n",
    "- la longitud y el ancho del sépalos y pétalos.\n",
    "\n",
    "Los sépalos son los que envuelven a las otras piezas florales en las primeras fases de desarrollo, cuando la flor es solo un capullo, por su parte los pétalos son la parte inferior del perianto y comprende las partes estériles de una flor."
   ]
  },
  {
   "cell_type": "code",
   "execution_count": 155,
   "metadata": {},
   "outputs": [
    {
     "data": {
      "text/html": [
       "<img src=\"https://live.staticflickr.com/7872/40110698543_23f5e6c0ef_m.jpg\"/>"
      ],
      "text/plain": [
       "<IPython.core.display.Image object>"
      ]
     },
     "execution_count": 155,
     "metadata": {},
     "output_type": "execute_result"
    }
   ],
   "source": [
    "Image(url=\"https://live.staticflickr.com/7872/40110698543_23f5e6c0ef_m.jpg\")"
   ]
  },
  {
   "cell_type": "code",
   "execution_count": 170,
   "metadata": {},
   "outputs": [
    {
     "name": "stdout",
     "output_type": "stream",
     "text": [
      "[6.3 3.3 6.  2.5] virginica\n"
     ]
    }
   ],
   "source": [
    "iris = datasets.load_iris()\n",
    "import pandas as pd\n",
    "print(iris.data[100],iris.target_names[iris.target[100]])"
   ]
  },
  {
   "cell_type": "code",
   "execution_count": 171,
   "metadata": {},
   "outputs": [
    {
     "data": {
      "image/png": "[encoded data removed]",
      "text/plain": [
       "<Figure size 432x288 with 1 Axes>"
      ]
     },
     "metadata": {
      "needs_background": "light"
     },
     "output_type": "display_data"
    }
   ],
   "source": [
    "%matplotlib inline\n",
    "import pandas as pd\n",
    "import numpy as np\n",
    "import matplotlib.patches as mpatches\n",
    "from sklearn import svm, datasets\n",
    "import matplotlib.pyplot as plt\n",
    " \n",
    "\n",
    " \n",
    "X = iris.data[:, :2]       #  take the first two features\n",
    "y = iris.target\n",
    " \n",
    "#---plot the points---\n",
    "colors = ['red', 'green', 'blue']\n",
    "for color, i, target in zip(colors, [0, 1, 2], iris.target_names):\n",
    "    plt.scatter(X[y==i, 0], X[y==i, 1], color=color, label=target)\n",
    " \n",
    "plt.xlabel('Sepal length')\n",
    "plt.ylabel('Sepal width')\n",
    "plt.legend(loc='best', shadow=False, scatterpoints=1)\n",
    " \n",
    "plt.title('Scatter plot of Sepal width against Sepal length')\n",
    "plt.show() "
   ]
  },
  {
   "cell_type": "markdown",
   "metadata": {},
   "source": [
    "Trazado del ancho del sépalo contra la longitud del sépalo en un diagrama de dispersión."
   ]
  },
  {
   "cell_type": "markdown",
   "metadata": {},
   "source": [
    "### Explorando diferentes valores de K"
   ]
  },
  {
   "cell_type": "markdown",
   "metadata": {},
   "source": [
    "Vamos a usar la clase `KNeighborsClassifier` de Scikit-Learn para ayudarnos a entrenar un modelo en el conjunto de datos de Iris usando KNN. Para empezar, usaremos una k=1:"
   ]
  },
  {
   "cell_type": "code",
   "execution_count": 172,
   "metadata": {},
   "outputs": [
    {
     "name": "stdout",
     "output_type": "stream",
     "text": [
      "(array([0, 1, 2]), array([50, 51, 49], dtype=int64))\n"
     ]
    },
    {
     "data": {
      "image/png": "[encoded data removed]",
      "text/plain": [
       "<Figure size 432x288 with 1 Axes>"
      ]
     },
     "metadata": {
      "needs_background": "light"
     },
     "output_type": "display_data"
    }
   ],
   "source": [
    "from sklearn.neighbors import KNeighborsClassifier\n",
    " \n",
    "def knn(k):\n",
    "    #---instanciamos el modelo de aprendizaje---\n",
    "    knn = KNeighborsClassifier(n_neighbors=k)\n",
    "\n",
    "    #---ajustamos el modelo---\n",
    "    knn.fit(X, y)\n",
    "\n",
    "    #---min y max para la primera feature---\n",
    "    x_min, x_max = X[:, 0].min() - 1, X[:, 0].max() + 1\n",
    "\n",
    "    #---min y max para la segunda feature---\n",
    "    y_min, y_max = X[:, 1].min() - 1, X[:, 1].max() + 1\n",
    "\n",
    "    #---tamaño del paso en la malla---\n",
    "    h = (x_max / x_min)/100\n",
    "\n",
    "    #---hacer predicciones para cada punto en xx,yy---\n",
    "    xx, yy = np.meshgrid(np.arange(x_min, x_max, h),\n",
    "                         np.arange(y_min, y_max, h))\n",
    "\n",
    "    Z = knn.predict(np.c_[xx.ravel(), yy.ravel()])\n",
    "\n",
    "    #---dibujar el resultado utilizando un color plot---\n",
    "    Z = Z.reshape(xx.shape)\n",
    "    plt.contourf(xx, yy, Z, cmap=plt.cm.Accent, alpha=0.8)\n",
    "\n",
    "    #---plot los puntos de training---\n",
    "    colors = ['red', 'green', 'blue']\n",
    "    for color, i, target in zip(colors, [0, 1, 2], iris.target_names):\n",
    "        plt.scatter(X[y==i, 0], X[y==i, 1], color=color, label=target)\n",
    "\n",
    "    plt.xlabel('Sepal length')\n",
    "    plt.ylabel('Sepal width')\n",
    "    plt.title(f'KNN (k={k})')\n",
    "    plt.legend(loc='best', shadow=False, scatterpoints=1)\n",
    "\n",
    "    predictions = knn.predict(X)\n",
    "    \n",
    "    return predictions\n",
    "\n",
    "\n",
    "#--clasificaciones basadas en predicciones K=1---\n",
    "print(np.unique(knn(1), return_counts=True)) "
   ]
  },
  {
   "cell_type": "markdown",
   "metadata": {},
   "source": [
    "El fragmento de código anterior crea una meshgrid (una rejilla rectangular de valores) de puntos dispersados a través de los ejes x e y ejes. Luego, cada punto se usa para la predicción y el resultado se dibuja usando un diagrama de color.\n",
    "Muestra el límite de clasificación utilizando una k=1, es decir hace una predicción basándose solo en el vecino más cercano. Esto hace que su predicción sea muy sensible a todo tipo de distorsiones, como valores atípicos, etiquetado incorrecto, etc. En general, establecer k=1 generalmente conduce a un sobreajuste (overfitting), y como resultado, su predicción generalmente no es muy precisa."
   ]
  },
  {
   "cell_type": "markdown",
   "metadata": {},
   "source": [
    "#### Nota\n",
    "1. El sobreajuste (overfitting) significa que el modelo entrenado se ajusta demasiado bien a los datos de entrenamiento. Esto sucede cuando todos los ruidos y fluctuaciones en los datos de entrenamiento se recogen durante el propio proceso de entrenamiento. En términos generales, esto significa que el modelo se está esforzando mucho para ajustar todos los datos a la perfección. \n",
    "\n",
    "    El problema clave con un modelo sobreajustado es que no funcionará bien con los datos nuevos que no se hayan tenido en cuenta.\n",
    "\n",
    "2. El desajuste (underfitting) ocurre cuando un modelo de aprendizaje automático no puede capturar con precisión la tendencia subyacente de los datos. Específicamente, el modelo no se ajusta lo suficientemente bien a los datos.\n",
    "\n",
    "Ejemplos:"
   ]
  },
  {
   "cell_type": "code",
   "execution_count": 173,
   "metadata": {},
   "outputs": [
    {
     "data": {
      "text/html": [
       "<img src=\"https://learning.oreilly.com/library/view/python-machine-learning/9781119545637/images/c09f006.jpg\"/>"
      ],
      "text/plain": [
       "<IPython.core.display.Image object>"
      ]
     },
     "execution_count": 173,
     "metadata": {},
     "output_type": "execute_result"
    }
   ],
   "source": [
    "Image(url=\"https://learning.oreilly.com/library/view/python-machine-learning/9781119545637/images/c09f006.jpg\")"
   ]
  },
  {
   "cell_type": "markdown",
   "metadata": {},
   "source": [
    "Para KNN, establecer k en un valor alto tiende a hacer que la predicción sea más sólida frente a ruidos en los datos."
   ]
  },
  {
   "cell_type": "markdown",
   "metadata": {},
   "source": [
    "Utilizando el mimso fragmento de código anterior, varíemos los valores de k:"
   ]
  },
  {
   "cell_type": "code",
   "execution_count": 174,
   "metadata": {},
   "outputs": [
    {
     "name": "stdout",
     "output_type": "stream",
     "text": [
      "(array([0, 1, 2]), array([50, 67, 33], dtype=int64))\n"
     ]
    },
    {
     "data": {
      "image/png": "[encoded data removed]",
      "text/plain": [
       "<Figure size 432x288 with 1 Axes>"
      ]
     },
     "metadata": {
      "needs_background": "light"
     },
     "output_type": "display_data"
    }
   ],
   "source": [
    "print(np.unique(knn(2), return_counts=True))"
   ]
  },
  {
   "cell_type": "code",
   "execution_count": 175,
   "metadata": {},
   "outputs": [
    {
     "data": {
      "text/plain": [
       "(array([0, 1, 2]), array([50, 44, 56], dtype=int64))"
      ]
     },
     "execution_count": 175,
     "metadata": {},
     "output_type": "execute_result"
    },
    {
     "data": {
      "image/png": "[encoded data removed]",
      "text/plain": [
       "<Figure size 432x288 with 1 Axes>"
      ]
     },
     "metadata": {
      "needs_background": "light"
     },
     "output_type": "display_data"
    }
   ],
   "source": [
    "#--clasificaciones basadas en predicciones K=3---\n",
    "np.unique(knn(3), return_counts=True)"
   ]
  },
  {
   "cell_type": "code",
   "execution_count": 176,
   "metadata": {},
   "outputs": [
    {
     "name": "stdout",
     "output_type": "stream",
     "text": [
      "(array([0, 1, 2]), array([49, 62, 39], dtype=int64))\n"
     ]
    },
    {
     "data": {
      "image/png": "[encoded data removed]",
      "text/plain": [
       "<Figure size 432x288 with 1 Axes>"
      ]
     },
     "metadata": {
      "needs_background": "light"
     },
     "output_type": "display_data"
    }
   ],
   "source": [
    "#--clasificaciones basadas en predicciones K=4---\n",
    "print(np.unique(knn(4), return_counts=True)) "
   ]
  },
  {
   "cell_type": "markdown",
   "metadata": {},
   "source": [
    "A medida que aumenta k, el límite se vuelve más suave pero también significa que más puntos se clasificarán incorrectamente. \n",
    "\n",
    "Cuando K aumenta a un valor grande se produce un desajuste.\n",
    "\n",
    "Entonces, la clave es: ¿Cómo determinar el valor K perfecto?"
   ]
  },
  {
   "cell_type": "markdown",
   "metadata": {},
   "source": [
    "## Validación cruzada"
   ]
  },
  {
   "cell_type": "markdown",
   "metadata": {},
   "source": [
    "Consiste en dividir los conjuntos de train y test en N subconjuntos"
   ]
  },
  {
   "cell_type": "markdown",
   "metadata": {},
   "source": [
    "La siguiente imagen muestra un conjunto de datos divididos en cinco pliegues (bloques). Para la primera ejecución, los bloques 1,2,3,4 se utilizarán par entrenar el modelo.\n",
    "\n",
    "El bloque 0 se utilizará para probar el modelo. \n",
    "\n",
    "En la siguiente ejecución:\n",
    "\n",
    "- Bloques: 0,2,3,4 se utilizarán para entrenamiento\n",
    "- Bloque: 1 se utilizará para las pruebas\n",
    "\n",
    "Y así sucesivamente."
   ]
  },
  {
   "cell_type": "code",
   "execution_count": 163,
   "metadata": {},
   "outputs": [
    {
     "data": {
      "text/html": [
       "<img src=\"https://learning.oreilly.com/library/view/python-machine-learning/9781119545637/images/c09f008.jpg\"/>"
      ],
      "text/plain": [
       "<IPython.core.display.Image object>"
      ]
     },
     "execution_count": 163,
     "metadata": {},
     "output_type": "execute_result"
    }
   ],
   "source": [
    "Image(url=\"https://learning.oreilly.com/library/view/python-machine-learning/9781119545637/images/c09f008.jpg\")"
   ]
  },
  {
   "cell_type": "markdown",
   "metadata": {},
   "source": [
    "Al final de cada ejecución se puntúa el modelo. Al final de las carreras k, se promedia la puntuación. Este puntuaje promedio nos dará una buena indicación de qué tan bien funciona nuestro algoritmo."
   ]
  },
  {
   "cell_type": "markdown",
   "metadata": {},
   "source": [
    "#### Nota\n",
    "``El propósito de la validación cruzada no es entrenar al modelo, sino más bien verificarlo.``\n",
    "La validación cruzada es útil cuando se necesita comparar diferentes algoritmos de aprendizaje autómatico para ver cómo funcionan con el conjunto de datos dado. Una vez que se selecciona el algoritmo, utilizará todos los datos para entrenar el modelo."
   ]
  },
  {
   "cell_type": "markdown",
   "metadata": {},
   "source": [
    "### Parámetro - Tuning K"
   ]
  },
  {
   "cell_type": "markdown",
   "metadata": {},
   "source": [
    "Vamos a entrar el modelo utilizando las 4 características y al mismo tiempo utilizaremos la validación cruzada en el conjunto de datos usando 10 pliegues, de tal forma que haremos esto para valor K:"
   ]
  },
  {
   "cell_type": "code",
   "execution_count": 164,
   "metadata": {},
   "outputs": [
    {
     "name": "stdout",
     "output_type": "stream",
     "text": [
      "1 0.96\n",
      "2 0.9533333333333334\n",
      "4 0.9666666666666666\n",
      "5 0.9666666666666668\n",
      "7 0.9666666666666668\n",
      "8 0.9666666666666668\n",
      "10 0.9666666666666668\n",
      "11 0.9666666666666668\n",
      "13 0.9800000000000001\n",
      "14 0.9733333333333334\n",
      "16 0.9733333333333334\n",
      "17 0.9733333333333334\n",
      "19 0.9733333333333334\n",
      "20 0.9800000000000001\n",
      "22 0.9666666666666666\n",
      "23 0.9733333333333334\n",
      "25 0.9666666666666666\n",
      "26 0.96\n",
      "28 0.9533333333333334\n",
      "29 0.9533333333333334\n",
      "31 0.9466666666666667\n",
      "32 0.9466666666666667\n",
      "34 0.9466666666666667\n",
      "35 0.9466666666666667\n",
      "37 0.9466666666666667\n",
      "38 0.9466666666666667\n",
      "40 0.9533333333333334\n",
      "41 0.9533333333333334\n",
      "43 0.9466666666666667\n",
      "44 0.9400000000000001\n",
      "46 0.9333333333333333\n",
      "47 0.9333333333333333\n",
      "49 0.9400000000000001\n",
      "50 0.9266666666666667\n",
      "52 0.9333333333333333\n",
      "53 0.9333333333333333\n",
      "55 0.9333333333333333\n",
      "56 0.9066666666666666\n",
      "58 0.9133333333333334\n",
      "59 0.9200000000000002\n",
      "61 0.9199999999999999\n",
      "62 0.9066666666666666\n",
      "64 0.9\n",
      "65 0.9\n",
      "67 0.8866666666666667\n",
      "68 0.8800000000000001\n",
      "70 0.8866666666666667\n",
      "71 0.8866666666666667\n",
      "73 0.8933333333333333\n",
      "74 0.8866666666666667\n",
      "76 0.8800000000000001\n",
      "77 0.8866666666666667\n",
      "79 0.8866666666666667\n",
      "80 0.8933333333333333\n",
      "82 0.9000000000000001\n",
      "83 0.8800000000000001\n",
      "85 0.8733333333333334\n",
      "86 0.8800000000000001\n",
      "88 0.8733333333333334\n",
      "89 0.8800000000000001\n",
      "91 0.6599999999999999\n",
      "92 0.6599999999999999\n",
      "94 0.6599999999999999\n",
      "95 0.6599999999999999\n",
      "97 0.6599999999999999\n",
      "98 0.6599999999999999\n",
      "100 0.6599999999999999\n",
      "101 0.6599999999999999\n",
      "103 0.6599999999999999\n",
      "104 0.6599999999999999\n",
      "106 0.6599999999999999\n",
      "107 0.6599999999999999\n",
      "109 0.6599999999999999\n",
      "110 0.6533333333333332\n",
      "112 0.6466666666666665\n",
      "113 0.6466666666666665\n",
      "115 0.6466666666666665\n",
      "116 0.6466666666666665\n",
      "118 0.6399999999999999\n",
      "119 0.6399999999999999\n",
      "121 0.6399999999999999\n",
      "122 0.6399999999999999\n",
      "124 0.6399999999999999\n",
      "125 0.6333333333333332\n",
      "127 0.6266666666666666\n",
      "128 0.6199999999999999\n",
      "130 0.6066666666666667\n",
      "131 0.5933333333333332\n",
      "133 0.5666666666666667\n",
      "134 0.5533333333333333\n"
     ]
    }
   ],
   "source": [
    "from sklearn.model_selection import cross_val_score\n",
    " \n",
    "#---mantiene las puntuaciones cross validation(cv)---\n",
    "cv_scores = []\n",
    " \n",
    "#---utiliza todas las características---\n",
    "X = iris.data[:, :4]\n",
    "y = iris.target\n",
    " \n",
    "#---número de pliegues---\n",
    "folds = 10\n",
    " \n",
    "#---creando una lista impar de K para KNN---\n",
    "ks = list(range(1,int(len(X) * ((folds - 1)/folds))))\n",
    " \n",
    "#---Elimina los múltiplos de 3---\n",
    "ks = [k for k in ks if k % 3 != 0]\n",
    " \n",
    "#---realizar una validación cruzada de k-fold---\n",
    "for k in ks:\n",
    "    knn = KNeighborsClassifier(n_neighbors=k)\n",
    " \n",
    "    #---realiza una validación cruzada y devuelve la precisión media---\n",
    "    scores = cross_val_score(knn, X, y, cv=folds, scoring='accuracy')\n",
    "    mean = scores.mean()\n",
    "    cv_scores.append(mean)\n",
    "    print(k, mean) "
   ]
  },
  {
   "cell_type": "markdown",
   "metadata": {},
   "source": [
    "La biblioteca Scikit-learn proporciona la función ```cross_val_score()```que realiza la validación cruzada automáticamente y devuelve las métricas que desea (por ejemplo, precisión).\n",
    "\n",
    "Cuando utilice la validación cruzada, tenga en cuenta que en cualquier momento habrá:\n",
    "\\begin{equation*}\n",
    "\\frac{(pliegues - 1)}{pliegues} * total\\_rows\n",
    "\\end{equation*}"
   ]
  },
  {
   "cell_type": "markdown",
   "metadata": {},
   "source": [
    "Esto se debe a que \n",
    "\\begin{equation*}\n",
    "\\frac{1}{pliegues} * total\\_rows\n",
    "\\end{equation*}\n",
    "se utilizará para las pruebas."
   ]
  },
  {
   "cell_type": "markdown",
   "metadata": {},
   "source": [
    "Para KNN, hay tres reglas que se deben cumplir:\n",
    "\n",
    "- El valor de k no puede exceder el número de filas para el entrenamiento.\n",
    "\n",
    "- El valor de k debe ser un número impar (para evitar situaciones en las que haya un empate entre las clases) para un problema de dos clases.\n",
    "\n",
    "- El valor de k no debe ser múltiplo del número de clases (para evitar empates, similar al punto anterior).\n",
    "\n",
    "Por lo tanto, la $k_s$ lista del fragmento de código anterior contendrá los siguientes valores:"
   ]
  },
  {
   "cell_type": "markdown",
   "metadata": {},
   "source": [
    "[1, 2, 4, 5, 7, 8, 10, 11, 13, 14, 16, 17, 19, 20, 22, 23, 25, 26, 28, 29, 31, 32, 34, 35, 37, 38, 40, 41, 43, 44, 46, 47, 49, 50, 52, 53, 55, 56, 58, 59, 61, 62, 64, 65, 67, 68, 70, 71, 73, 74, 76, 77, 79, 80, 82, 83, 85, 86, 88, 89, 91, 92, 94, 95, 97, 98, 100, 101, 103, 104, 106, 107, 109, 110, 112, 113, 115, 116, 118, 119, 121, 122, 124, 125, 127, 128, 130, 131, 133, 134] "
   ]
  },
  {
   "cell_type": "markdown",
   "metadata": {},
   "source": [
    "Después del entrenamiento, ```cv_scores``` contendrá una lista de precisiones basada en los diferentes valores de k:\n",
    "\n",
    "  1    0.96\n",
    "\n",
    "...\n",
    "\n",
    "134    0.5533333333333333 "
   ]
  },
  {
   "cell_type": "markdown",
   "metadata": {},
   "source": [
    "### Encontrar la K óptima\n",
    "Para encontrar el k óptimo, simplemente encuentre el valor de K que le dé la mayor precisión.\n",
    "\n",
    "En este caso querrémos encontra el menor ```misclassification error``` (MSE)."
   ]
  },
  {
   "cell_type": "markdown",
   "metadata": {},
   "source": [
    "El siguiente código busca el MSE para cada k y luego encuentra el k con el MSE más bajo. Luego traza un gráfico de líneas de MSE contra k:"
   ]
  },
  {
   "cell_type": "code",
   "execution_count": 165,
   "metadata": {},
   "outputs": [
    {
     "name": "stdout",
     "output_type": "stream",
     "text": [
      "The optimal number of neighbors is 13\n"
     ]
    },
    {
     "data": {
      "image/png": "[encoded data removed]",
      "text/plain": [
       "<Figure size 432x288 with 1 Axes>"
      ]
     },
     "metadata": {
      "needs_background": "light"
     },
     "output_type": "display_data"
    }
   ],
   "source": [
    "#---calculate misclassification error for each k---\n",
    "MSE = [1 - x for x in cv_scores]\n",
    " \n",
    "#---determining best k (min. MSE)---\n",
    "optimal_k = ks[MSE.index(min(MSE))]\n",
    "print(f\"The optimal number of neighbors is {optimal_k}\")\n",
    " \n",
    "#---plot misclassification error vs k---\n",
    "plt.plot(ks, MSE)\n",
    "plt.xlabel('Number of Neighbors K')\n",
    "plt.ylabel('Misclassification Error')\n",
    "plt.show() "
   ]
  },
  {
   "cell_type": "markdown",
   "metadata": {},
   "source": [
    "Nos dice esto:\n",
    "```The optimal number of neighbors is 13```"
   ]
  },
  {
   "cell_type": "markdown",
   "metadata": {},
   "source": [
    "Vamos a ejecutar el KNN con k=13:"
   ]
  },
  {
   "cell_type": "code",
   "execution_count": 177,
   "metadata": {},
   "outputs": [
    {
     "name": "stdout",
     "output_type": "stream",
     "text": [
      "(array([0, 1, 2]), array([51, 46, 53], dtype=int64))\n"
     ]
    },
    {
     "data": {
      "image/png": "[encoded data removed]",
      "text/plain": [
       "<Figure size 432x288 with 1 Axes>"
      ]
     },
     "metadata": {
      "needs_background": "light"
     },
     "output_type": "display_data"
    }
   ],
   "source": [
    "print(np.unique(knn(13), return_counts=True)) "
   ]
  },
  {
   "cell_type": "code",
   "execution_count": null,
   "metadata": {},
   "outputs": [],
   "source": []
  }
 ],
 "metadata": {
  "kernelspec": {
   "display_name": "Python 3",
   "language": "python",
   "name": "python3"
  },
  "language_info": {
   "codemirror_mode": {
    "name": "ipython",
    "version": 3
   },
   "file_extension": ".py",
   "mimetype": "text/x-python",
   "name": "python",
   "nbconvert_exporter": "python",
   "pygments_lexer": "ipython3",
   "version": "3.8.3"
  }
 },
 "nbformat": 4,
 "nbformat_minor": 4
}
